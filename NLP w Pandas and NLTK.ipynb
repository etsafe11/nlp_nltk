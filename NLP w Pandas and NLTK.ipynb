{
 "cells": [
  {
   "cell_type": "code",
   "execution_count": 3,
   "metadata": {},
   "outputs": [],
   "source": [
    "import pandas as pd"
   ]
  },
  {
   "cell_type": "code",
   "execution_count": null,
   "metadata": {},
   "outputs": [],
   "source": [
    "import nltk"
   ]
  },
  {
   "cell_type": "code",
   "execution_count": null,
   "metadata": {},
   "outputs": [],
   "source": [
    "from nltk.stem.porter import *"
   ]
  },
  {
   "cell_type": "code",
   "execution_count": null,
   "metadata": {},
   "outputs": [],
   "source": [
    "nltk.download('stopwords')"
   ]
  },
  {
   "cell_type": "code",
   "execution_count": 40,
   "metadata": {},
   "outputs": [
    {
     "name": "stdout",
     "output_type": "stream",
     "text": [
      "[nltk_data] Downloading package averaged_perceptron_tagger to\n",
      "[nltk_data]     C:\\Users\\v-eritho\\AppData\\Roaming\\nltk_data...\n",
      "[nltk_data]   Unzipping taggers\\averaged_perceptron_tagger.zip.\n"
     ]
    },
    {
     "data": {
      "text/plain": [
       "True"
      ]
     },
     "execution_count": 40,
     "metadata": {},
     "output_type": "execute_result"
    }
   ],
   "source": [
    "nltk.download('averaged_perceptron_tagger')"
   ]
  },
  {
   "cell_type": "code",
   "execution_count": 5,
   "metadata": {},
   "outputs": [],
   "source": [
    "data = pd.read_csv('C:\\\\Users\\\\v-eritho\\\\Desktop\\\\SAIM-IntroductionToNLP\\\\data\\\\Corporate-messaging-DFE.csv')"
   ]
  },
  {
   "cell_type": "code",
   "execution_count": 6,
   "metadata": {},
   "outputs": [
    {
     "data": {
      "text/html": [
       "<div>\n",
       "<style scoped>\n",
       "    .dataframe tbody tr th:only-of-type {\n",
       "        vertical-align: middle;\n",
       "    }\n",
       "\n",
       "    .dataframe tbody tr th {\n",
       "        vertical-align: top;\n",
       "    }\n",
       "\n",
       "    .dataframe thead th {\n",
       "        text-align: right;\n",
       "    }\n",
       "</style>\n",
       "<table border=\"1\" class=\"dataframe\">\n",
       "  <thead>\n",
       "    <tr style=\"text-align: right;\">\n",
       "      <th></th>\n",
       "      <th>_unit_id</th>\n",
       "      <th>_golden</th>\n",
       "      <th>_unit_state</th>\n",
       "      <th>_trusted_judgments</th>\n",
       "      <th>_last_judgment_at</th>\n",
       "      <th>category</th>\n",
       "      <th>category:confidence</th>\n",
       "      <th>category_gold</th>\n",
       "      <th>id</th>\n",
       "      <th>screenname</th>\n",
       "      <th>text</th>\n",
       "    </tr>\n",
       "  </thead>\n",
       "  <tbody>\n",
       "    <tr>\n",
       "      <th>0</th>\n",
       "      <td>662822308</td>\n",
       "      <td>False</td>\n",
       "      <td>finalized</td>\n",
       "      <td>3</td>\n",
       "      <td>2/18/2015 4:31</td>\n",
       "      <td>Information</td>\n",
       "      <td>1.0</td>\n",
       "      <td>NaN</td>\n",
       "      <td>4.370000e+17</td>\n",
       "      <td>Barclays</td>\n",
       "      <td>Barclays CEO stresses the importance of regula...</td>\n",
       "    </tr>\n",
       "    <tr>\n",
       "      <th>1</th>\n",
       "      <td>662822309</td>\n",
       "      <td>False</td>\n",
       "      <td>finalized</td>\n",
       "      <td>3</td>\n",
       "      <td>2/18/2015 13:55</td>\n",
       "      <td>Information</td>\n",
       "      <td>1.0</td>\n",
       "      <td>NaN</td>\n",
       "      <td>3.860000e+17</td>\n",
       "      <td>Barclays</td>\n",
       "      <td>Barclays announces result of Rights Issue http...</td>\n",
       "    </tr>\n",
       "    <tr>\n",
       "      <th>2</th>\n",
       "      <td>662822310</td>\n",
       "      <td>False</td>\n",
       "      <td>finalized</td>\n",
       "      <td>3</td>\n",
       "      <td>2/18/2015 8:43</td>\n",
       "      <td>Information</td>\n",
       "      <td>1.0</td>\n",
       "      <td>NaN</td>\n",
       "      <td>3.800000e+17</td>\n",
       "      <td>Barclays</td>\n",
       "      <td>Barclays publishes its prospectus for its å£5....</td>\n",
       "    </tr>\n",
       "    <tr>\n",
       "      <th>3</th>\n",
       "      <td>662822311</td>\n",
       "      <td>False</td>\n",
       "      <td>finalized</td>\n",
       "      <td>3</td>\n",
       "      <td>2/18/2015 9:13</td>\n",
       "      <td>Information</td>\n",
       "      <td>1.0</td>\n",
       "      <td>NaN</td>\n",
       "      <td>3.680000e+17</td>\n",
       "      <td>Barclays</td>\n",
       "      <td>Barclays Group Finance Director Chris Lucas is...</td>\n",
       "    </tr>\n",
       "    <tr>\n",
       "      <th>4</th>\n",
       "      <td>662822312</td>\n",
       "      <td>False</td>\n",
       "      <td>finalized</td>\n",
       "      <td>3</td>\n",
       "      <td>2/18/2015 6:48</td>\n",
       "      <td>Information</td>\n",
       "      <td>1.0</td>\n",
       "      <td>NaN</td>\n",
       "      <td>3.600000e+17</td>\n",
       "      <td>Barclays</td>\n",
       "      <td>Barclays announces that Irene McDermott Brown ...</td>\n",
       "    </tr>\n",
       "  </tbody>\n",
       "</table>\n",
       "</div>"
      ],
      "text/plain": [
       "    _unit_id  _golden _unit_state  _trusted_judgments _last_judgment_at  \\\n",
       "0  662822308    False   finalized                   3    2/18/2015 4:31   \n",
       "1  662822309    False   finalized                   3   2/18/2015 13:55   \n",
       "2  662822310    False   finalized                   3    2/18/2015 8:43   \n",
       "3  662822311    False   finalized                   3    2/18/2015 9:13   \n",
       "4  662822312    False   finalized                   3    2/18/2015 6:48   \n",
       "\n",
       "      category  category:confidence category_gold            id screenname  \\\n",
       "0  Information                  1.0           NaN  4.370000e+17   Barclays   \n",
       "1  Information                  1.0           NaN  3.860000e+17   Barclays   \n",
       "2  Information                  1.0           NaN  3.800000e+17   Barclays   \n",
       "3  Information                  1.0           NaN  3.680000e+17   Barclays   \n",
       "4  Information                  1.0           NaN  3.600000e+17   Barclays   \n",
       "\n",
       "                                                text  \n",
       "0  Barclays CEO stresses the importance of regula...  \n",
       "1  Barclays announces result of Rights Issue http...  \n",
       "2  Barclays publishes its prospectus for its å£5....  \n",
       "3  Barclays Group Finance Director Chris Lucas is...  \n",
       "4  Barclays announces that Irene McDermott Brown ...  "
      ]
     },
     "execution_count": 6,
     "metadata": {},
     "output_type": "execute_result"
    }
   ],
   "source": [
    "data.head()"
   ]
  },
  {
   "cell_type": "code",
   "execution_count": 7,
   "metadata": {},
   "outputs": [
    {
     "data": {
      "text/plain": [
       "Index(['_unit_id', '_golden', '_unit_state', '_trusted_judgments',\n",
       "       '_last_judgment_at', 'category', 'category:confidence', 'category_gold',\n",
       "       'id', 'screenname', 'text'],\n",
       "      dtype='object')"
      ]
     },
     "execution_count": 7,
     "metadata": {},
     "output_type": "execute_result"
    }
   ],
   "source": [
    "data.columns"
   ]
  },
  {
   "cell_type": "code",
   "execution_count": 8,
   "metadata": {},
   "outputs": [
    {
     "data": {
      "text/plain": [
       "0       Barclays CEO stresses the importance of regula...\n",
       "1       Barclays announces result of Rights Issue http...\n",
       "2       Barclays publishes its prospectus for its å£5....\n",
       "3       Barclays Group Finance Director Chris Lucas is...\n",
       "4       Barclays announces that Irene McDermott Brown ...\n",
       "5       Barclays response to PRA capital shortfall exe...\n",
       "6       Barclays sponsors #Zamynforum BBC World Servic...\n",
       "7       Barclays has today published its response to T...\n",
       "8       Read statement on #Barclays CEO bonus award 20...\n",
       "9       59% of workers are either looking to change jo...\n",
       "10      You no longer have one workforce. You have fiv...\n",
       "11      UK entrepreneurial activity in 2013 at a glanc...\n",
       "12      Emma Turner, Head of Client Philanthropy provi...\n",
       "13      ...Visit us @NAPFnews 5-7 March for more workf...\n",
       "14      Will the chill in #emergingmarkets last a litt...\n",
       "15      Since 2004 we've invested å£37.5m in the #Spac...\n",
       "16      Barclays Service Executives: helping you feel ...\n",
       "17      Jaime Arguello examines whether 2014 is the ri...\n",
       "18      Student of the Year Awards for Island's except...\n",
       "19      Young people at the focus  4 local charities h...\n",
       "20      We are delighted to have been ranked best weal...\n",
       "21      Barclays &amp  @BGF_team #EntrepreneursIndex r...\n",
       "22      Proud to sponsor @BVCA Conference today. Lots ...\n",
       "23      ‰ÛÏEmployers must now address the fundamental ...\n",
       "24      Gen Y: 65% seek financial education &amp  guid...\n",
       "25      Visit us at stand 310 @eb__live  to see a new ...\n",
       "26      Why benefit strategies are failing younger wor...\n",
       "27      Gen X places importance on company pension sch...\n",
       "28      Baby Boomers: Least demanding generation, 71% ...\n",
       "29      Latest research finds over 90% of employees fr...\n",
       "                              ...                        \n",
       "3088    The H4HInitiative develops strategies to encou...\n",
       "3089    The International Osteoporosis Foundation @iof...\n",
       "3090    The World Wide Web is 25 today &amp; going str...\n",
       "3091    This Heart Health Month, Million Hearts begins...\n",
       "3092    This week is @sleepfoundationÌ¢‰âÂ‰ã¢s Sleep A...\n",
       "3093    To celebrate Global Community Day over 400 #Ci...\n",
       "3094    Today is International Maternal Health Day. RT...\n",
       "3095    Today our CMO joins a panel at the National He...\n",
       "3096    Today, the Health Ministry rewarded Danone Spa...\n",
       "3097    Turning waste into gold! See how @sanergy solv...\n",
       "3098    Want to improve your health? Read about the im...\n",
       "3099    Watch celebrity @ChefArtSmith cook up his #hea...\n",
       "3100    Watch the moving story of @Parinaam assisting ...\n",
       "3101    Watching the globes 2nite? DonÌ¢‰âÂ‰ã¢t miss @...\n",
       "3102    We are honored to be selected as a 2014 Manufa...\n",
       "3103    We are moments away from learning the names of...\n",
       "3104    We are the proud recipient of the #Citizens201...\n",
       "3105    We pledge to accelerate #salt reduction in all...\n",
       "3106    We think it's a shame \"Cake to Bake\" didn't ma...\n",
       "3107    We're grateful for 2x honors @ChamberBCLC Citi...\n",
       "3108    WeÌ¢‰âÂ‰ã¢re the 1. to sign up to a European i...\n",
       "3109    WeÌ¢‰âÂ‰ã¢re working hard to do all we can to ...\n",
       "3110    Wish children ate healthier? See how Trees for...\n",
       "3111    Wish cities were more child-friendly? See how ...\n",
       "3112    Wishing all of our followers a happy and healt...\n",
       "3113    Wishing you a happy and healthy Thanksgiving. ...\n",
       "3114    WouldnÌ¢‰âÂ‰ã¢t it be great if your oven recog...\n",
       "3115    Yesterday, these #HealthyKids lit up Broadway ...\n",
       "3116    Yo-Jelly, Danone new brand in South Africa : t...\n",
       "3117    Z Bhutta: Problems with food&amp;land systems ...\n",
       "Name: text, Length: 3118, dtype: object"
      ]
     },
     "execution_count": 8,
     "metadata": {},
     "output_type": "execute_result"
    }
   ],
   "source": [
    "data[\"text\"]"
   ]
  },
  {
   "cell_type": "code",
   "execution_count": 12,
   "metadata": {},
   "outputs": [
    {
     "name": "stdout",
     "output_type": "stream",
     "text": [
      "[nltk_data] Downloading package punkt to\n",
      "[nltk_data]     C:\\Users\\v-eritho\\AppData\\Roaming\\nltk_data...\n",
      "[nltk_data]   Unzipping tokenizers\\punkt.zip.\n"
     ]
    },
    {
     "data": {
      "text/plain": [
       "True"
      ]
     },
     "execution_count": 12,
     "metadata": {},
     "output_type": "execute_result"
    }
   ],
   "source": [
    "nltk.download(\"punkt\")"
   ]
  },
  {
   "cell_type": "code",
   "execution_count": 16,
   "metadata": {},
   "outputs": [],
   "source": [
    "data[\"text2\"] = data[\"text\"].map(nltk.word_tokenize)"
   ]
  },
  {
   "cell_type": "code",
   "execution_count": 17,
   "metadata": {},
   "outputs": [
    {
     "data": {
      "text/plain": [
       "0       [Barclays, CEO, stresses, the, importance, of,...\n",
       "1       [Barclays, announces, result, of, Rights, Issu...\n",
       "2       [Barclays, publishes, its, prospectus, for, it...\n",
       "3       [Barclays, Group, Finance, Director, Chris, Lu...\n",
       "4       [Barclays, announces, that, Irene, McDermott, ...\n",
       "5       [Barclays, response, to, PRA, capital, shortfa...\n",
       "6       [Barclays, sponsors, #, Zamynforum, BBC, World...\n",
       "7       [Barclays, has, today, published, its, respons...\n",
       "8       [Read, statement, on, #, Barclays, CEO, bonus,...\n",
       "9       [59, %, of, workers, are, either, looking, to,...\n",
       "10      [You, no, longer, have, one, workforce, ., You...\n",
       "11      [UK, entrepreneurial, activity, in, 2013, at, ...\n",
       "12      [Emma, Turner, ,, Head, of, Client, Philanthro...\n",
       "13      [..., Visit, us, @, NAPFnews, 5-7, March, for,...\n",
       "14      [Will, the, chill, in, #, emergingmarkets, las...\n",
       "15      [Since, 2004, we, 've, invested, å£37.5m, in, ...\n",
       "16      [Barclays, Service, Executives, :, helping, yo...\n",
       "17      [Jaime, Arguello, examines, whether, 2014, is,...\n",
       "18      [Student, of, the, Year, Awards, for, Island, ...\n",
       "19      [Young, people, at, the, focus, 4, local, char...\n",
       "20      [We, are, delighted, to, have, been, ranked, b...\n",
       "21      [Barclays, &, amp, @, BGF_team, #, Entrepreneu...\n",
       "22      [Proud, to, sponsor, @, BVCA, Conference, toda...\n",
       "23      [‰ÛÏEmployers, must, now, address, the, fundam...\n",
       "24      [Gen, Y, :, 65, %, seek, financial, education,...\n",
       "25      [Visit, us, at, stand, 310, @, eb__live, to, s...\n",
       "26      [Why, benefit, strategies, are, failing, young...\n",
       "27      [Gen, X, places, importance, on, company, pens...\n",
       "28      [Baby, Boomers, :, Least, demanding, generatio...\n",
       "29      [Latest, research, finds, over, 90, %, of, emp...\n",
       "                              ...                        \n",
       "3088    [The, H4HInitiative, develops, strategies, to,...\n",
       "3089    [The, International, Osteoporosis, Foundation,...\n",
       "3090    [The, World, Wide, Web, is, 25, today, &, amp,...\n",
       "3091    [This, Heart, Health, Month, ,, Million, Heart...\n",
       "3092    [This, week, is, @, sleepfoundationÌ¢‰âÂ‰ã¢s, ...\n",
       "3093    [To, celebrate, Global, Community, Day, over, ...\n",
       "3094    [Today, is, International, Maternal, Health, D...\n",
       "3095    [Today, our, CMO, joins, a, panel, at, the, Na...\n",
       "3096    [Today, ,, the, Health, Ministry, rewarded, Da...\n",
       "3097    [Turning, waste, into, gold, !, See, how, @, s...\n",
       "3098    [Want, to, improve, your, health, ?, Read, abo...\n",
       "3099    [Watch, celebrity, @, ChefArtSmith, cook, up, ...\n",
       "3100    [Watch, the, moving, story, of, @, Parinaam, a...\n",
       "3101    [Watching, the, globes, 2nite, ?, DonÌ¢‰âÂ‰ã¢t...\n",
       "3102    [We, are, honored, to, be, selected, as, a, 20...\n",
       "3103    [We, are, moments, away, from, learning, the, ...\n",
       "3104    [We, are, the, proud, recipient, of, the, #, C...\n",
       "3105    [We, pledge, to, accelerate, #, salt, reductio...\n",
       "3106    [We, think, it, 's, a, shame, ``, Cake, to, Ba...\n",
       "3107    [We, 're, grateful, for, 2x, honors, @, Chambe...\n",
       "3108    [WeÌ¢‰âÂ‰ã¢re, the, 1., to, sign, up, to, a, E...\n",
       "3109    [WeÌ¢‰âÂ‰ã¢re, working, hard, to, do, all, we,...\n",
       "3110    [Wish, children, ate, healthier, ?, See, how, ...\n",
       "3111    [Wish, cities, were, more, child-friendly, ?, ...\n",
       "3112    [Wishing, all, of, our, followers, a, happy, a...\n",
       "3113    [Wishing, you, a, happy, and, healthy, Thanksg...\n",
       "3114    [WouldnÌ¢‰âÂ‰ã¢t, it, be, great, if, your, ove...\n",
       "3115    [Yesterday, ,, these, #, HealthyKids, lit, up,...\n",
       "3116    [Yo-Jelly, ,, Danone, new, brand, in, South, A...\n",
       "3117    [Z, Bhutta, :, Problems, with, food, &, amp, ;...\n",
       "Name: text2, Length: 3118, dtype: object"
      ]
     },
     "execution_count": 17,
     "metadata": {},
     "output_type": "execute_result"
    }
   ],
   "source": [
    "data[\"text2\"]"
   ]
  },
  {
   "cell_type": "code",
   "execution_count": null,
   "metadata": {},
   "outputs": [],
   "source": [
    "stemmer = nltk.stem.PorterStemmer()"
   ]
  },
  {
   "cell_type": "code",
   "execution_count": 35,
   "metadata": {},
   "outputs": [],
   "source": [
    "def cleaner(text):\n",
    "    tokens = nltk.word_tokenize(text)\n",
    "    tokens = [token.lower() for token in tokens]\n",
    "    tokens = [token for token in tokens if token not in nltk.corpus.stopwords.words('english')]\n",
    "    stemmed = [stemmer.stem(token) for token in tokens]\n",
    "    return stemmed"
   ]
  },
  {
   "cell_type": "code",
   "execution_count": 36,
   "metadata": {},
   "outputs": [],
   "source": [
    "data[\"text3\"] = data[\"text\"].map(cleaner)"
   ]
  },
  {
   "cell_type": "code",
   "execution_count": 46,
   "metadata": {},
   "outputs": [],
   "source": [
    "data[\"text4\"] = data[\"text3\"].map(nltk.pos_tag)"
   ]
  },
  {
   "cell_type": "code",
   "execution_count": 47,
   "metadata": {},
   "outputs": [
    {
     "data": {
      "text/plain": [
       "0       [(barclay, NN), (ceo, NN), (stress, NN), (impo...\n",
       "1       [(barclay, NN), (announc, NN), (result, NN), (...\n",
       "2       [(barclay, NN), (publish, JJ), (prospectu, NN)...\n",
       "3       [(barclay, NN), (group, NN), (financ, VBD), (d...\n",
       "4       [(barclay, NN), (announc, VBZ), (iren, JJ), (m...\n",
       "5       [(barclay, NN), (respons, NNS), (pra, VBP), (c...\n",
       "6       [(barclay, NN), (sponsor, NN), (#, #), (zamynf...\n",
       "7       [(barclay, NN), (today, NN), (publish, JJ), (r...\n",
       "8       [(read, JJ), (statement, NN), (#, #), (barclay...\n",
       "9       [(59, CD), (%, NN), (worker, NN), (either, CC)...\n",
       "10      [(longer, JJR), (one, CD), (workforc, NN), (.,...\n",
       "11      [(uk, JJ), (entrepreneuri, NN), (activ, NN), (...\n",
       "12      [(emma, NN), (turner, NN), (,, ,), (head, NN),...\n",
       "13      [(..., :), (visit, NN), (us, PRP), (@, VBP), (...\n",
       "14      [(chill, NN), (#, #), (emergingmarket, NN), (l...\n",
       "15      [(sinc, NN), (2004, CD), ('ve, VBP), (invest, ...\n",
       "16      [(barclay, NN), (servic, JJ), (execut, NN), (:...\n",
       "17      [(jaim, NN), (arguello, IN), (examin, FW), (wh...\n",
       "18      [(student, NN), (year, NN), (award, RB), (isla...\n",
       "19      [(young, JJ), (peopl, NN), (focu, VBD), (4, CD...\n",
       "20      [(delight, JJ), (rank, NN), (best, JJS), (weal...\n",
       "21      [(barclay, NN), (&, CC), (amp, NN), (@, VBP), ...\n",
       "22      [(proud, NN), (sponsor, NN), (@, NNP), (bvca, ...\n",
       "23      [(‰ûïemploy, NN), (must, MD), (address, VB), (...\n",
       "24      [(gen, NN), (:, :), (65, CD), (%, NN), (seek, ...\n",
       "25      [(visit, NN), (us, PRP), (stand, VBP), (310, C...\n",
       "26      [(benefit, NN), (strategi, NN), (fail, VBP), (...\n",
       "27      [(gen, NN), (x, JJ), (place, NN), (import, NN)...\n",
       "28      [(babi, JJ), (boomer, NN), (:, :), (least, JJS...\n",
       "29      [(latest, JJS), (research, NN), (find, VB), (9...\n",
       "                              ...                        \n",
       "3088    [(h4hiniti, NN), (develop, VB), (strategi, JJ)...\n",
       "3089    [(intern, JJ), (osteoporosi, MD), (foundat, VB...\n",
       "3090    [(world, NN), (wide, JJ), (web, NN), (25, CD),...\n",
       "3091    [(heart, NN), (health, NN), (month, NN), (,, ,...\n",
       "3092    [(week, NN), (@, NNP), (sleepfoundationì¢‰ââ‰ã...\n",
       "3093    [(celebr, NN), (global, JJ), (commun, NN), (da...\n",
       "3094    [(today, NN), (intern, JJ), (matern, JJ), (hea...\n",
       "3095    [(today, NN), (cmo, VBP), (join, NN), (panel, ...\n",
       "3096    [(today, NN), (,, ,), (health, NN), (ministri,...\n",
       "3097    [(turn, NN), (wast, WRB), (gold, NN), (!, .), ...\n",
       "3098    [(want, JJ), (improv, NN), (health, NN), (?, ....\n",
       "3099    [(watch, NN), (celebr, NN), (@, NNP), (chefart...\n",
       "3100    [(watch, NN), (move, NN), (stori, NN), (@, NNP...\n",
       "3101    [(watch, NN), (globe, NN), (2nite, CD), (?, .)...\n",
       "3102    [(honor, NN), (select, NN), (2014, CD), (manuf...\n",
       "3103    [(moment, NN), (away, RB), (learn, JJ), (name,...\n",
       "3104    [(proud, JJ), (recipi, NN), (#, #), (citizens2...\n",
       "3105    [(pledg, NN), (acceler, NN), (#, #), (salt, NN...\n",
       "3106    [(think, NN), ('s, POS), (shame, NN), (``, ``)...\n",
       "3107    [('re, VBP), (grate, JJ), (2x, CD), (honor, NN...\n",
       "3108    [(weì¢‰ââ‰ã¢r, NN), (1., CD), (sign, JJ), (eur...\n",
       "3109    [(weì¢‰ââ‰ã¢r, JJ), (work, NN), (hard, JJ), (p...\n",
       "3110    [(wish, JJ), (children, NNS), (ate, VBP), (hea...\n",
       "3111    [(wish, JJ), (citi, NN), (child-friendli, NN),...\n",
       "3112    [(wish, JJ), (follow, VBP), (happi, NNS), (hea...\n",
       "3113    [(wish, JJ), (happi, NN), (healthi, NN), (than...\n",
       "3114    [(wouldnì¢‰ââ‰ã¢t, RB), (great, JJ), (oven, JJ...\n",
       "3115    [(yesterday, NN), (,, ,), (#, #), (healthykid,...\n",
       "3116    [(yo-jelli, NN), (,, ,), (danon, VB), (new, JJ...\n",
       "3117    [(z, NN), (bhutta, NN), (:, :), (problem, NN),...\n",
       "Name: text4, Length: 3118, dtype: object"
      ]
     },
     "execution_count": 47,
     "metadata": {},
     "output_type": "execute_result"
    }
   ],
   "source": [
    "data[\"text4\"]"
   ]
  }
 ],
 "metadata": {
  "kernelspec": {
   "display_name": "Python 3",
   "language": "python",
   "name": "python3"
  },
  "language_info": {
   "codemirror_mode": {
    "name": "ipython",
    "version": 3
   },
   "file_extension": ".py",
   "mimetype": "text/x-python",
   "name": "python",
   "nbconvert_exporter": "python",
   "pygments_lexer": "ipython3",
   "version": "3.5.0"
  }
 },
 "nbformat": 4,
 "nbformat_minor": 2
}
